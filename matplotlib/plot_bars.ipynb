{
 "cells": [
  {
   "cell_type": "code",
   "execution_count": 1,
   "metadata": {},
   "outputs": [
    {
     "data": {
      "image/png": "[encoded data removed]",
      "text/plain": [
       "<Figure size 1440x216 with 3 Axes>"
      ]
     },
     "metadata": {
      "needs_background": "light"
     },
     "output_type": "display_data"
    }
   ],
   "source": [
    "import matplotlib.pyplot as plt\n",
    "import numpy as np\n",
    "plt.rcParams.update({'font.size': 15})\n",
    "\n",
    "num = 3\n",
    "methods = ['SNAFT', 'Async', 'Sync']\n",
    "labels = ['a', 'b', 'c', 'd']\n",
    "colors = ['r', 'g', 'b', 'y']\n",
    "data = np.array([\n",
    "    [0.5, 0.5, 2.5, 0.8], # snaft\n",
    "    [0.5, 0.5, 1.5, 0.8], # async\n",
    "    [0.5, 0.5, 2.5, 0.9]  # sync\n",
    "])\n",
    "\n",
    "\n",
    "fig=plt.figure(num=1,figsize=(20,3))\n",
    "x_axis = np.arange(len(methods))\n",
    "\n",
    "ax1=fig.add_subplot(int(f\"1{num}1\")) \n",
    "ax1.bar(x_axis-0.2,data[:,0],0.1,label=labels[0], color=colors[0])\n",
    "ax1.bar(x_axis-0.1,data[:,1],0.1,label=labels[1], color=colors[1])\n",
    "ax1.bar(x_axis,data[:,2],0.1,label=labels[2], color=colors[2])\n",
    "ax1.bar(x_axis+0.1,data[:,3],0.1,label=labels[3], color=colors[3])\n",
    "ax1.set_xticks(x_axis, methods)\n",
    "ax1.set_ylabel('Log10(Ckpt Time)')\n",
    "\n",
    "ax2=fig.add_subplot(int(f\"1{num}2\"))\n",
    "ax2.bar(x_axis-0.2,data[:,0],0.1,label=labels[0], color=colors[0])\n",
    "ax2.bar(x_axis-0.1,data[:,1],0.1,label=labels[1], color=colors[1])\n",
    "ax2.bar(x_axis,data[:,2],0.1,label=labels[2], color=colors[2])\n",
    "ax2.bar(x_axis+0.1,data[:,3],0.1,label=labels[3], color=colors[3])\n",
    "ax2.set_xticks(x_axis, methods)\n",
    "ax2.set_xlabel('Methods')\n",
    "\n",
    "ax3=fig.add_subplot(int(f\"1{num}3\"))\n",
    "ax3.bar(x_axis-0.2,data[:,0],0.1,label=labels[0], color=colors[0])\n",
    "ax3.bar(x_axis-0.1,data[:,1],0.1,label=labels[1], color=colors[1])\n",
    "ax3.bar(x_axis,data[:,2],0.1,label=labels[2], color=colors[2])\n",
    "ax3.bar(x_axis+0.1,data[:,3],0.1,label=labels[3], color=colors[3])\n",
    "ax3.set_xticks(x_axis, methods)\n",
    "\n",
    "plt.legend(loc=(-1,1.1), ncol=len(labels))\n",
    "plt.show()\n"
   ]
  },
  {
   "cell_type": "code",
   "execution_count": 2,
   "metadata": {},
   "outputs": [
    {
     "data": {
      "image/png": "[encoded data removed]",
      "text/plain": [
       "<Figure size 432x288 with 1 Axes>"
      ]
     },
     "metadata": {
      "needs_background": "light"
     },
     "output_type": "display_data"
    }
   ],
   "source": [
    "import numpy as np\n",
    "import matplotlib.pyplot as plt\n",
    "\n",
    "X = ['Group A','Group B','Group C','Group D']\n",
    "Ygirls = [10,20,20,40]\n",
    "Zboys = [20,30,25,30]\n",
    "\n",
    "X_axis = np.arange(len(X))\n",
    "\n",
    "plt.bar(X_axis - 0.2, Ygirls, 0.4, label = 'Girls')\n",
    "plt.bar(X_axis + 0.2, Zboys, 0.4, label = 'Boys')\n",
    "\n",
    "plt.xticks(X_axis, X)\n",
    "plt.xlabel(\"Groups\")\n",
    "plt.ylabel(\"Number of Students\")\n",
    "plt.title(\"Number of Students in each group\")\n",
    "plt.legend()\n",
    "plt.show()\n"
   ]
  },
  {
   "cell_type": "code",
   "execution_count": null,
   "metadata": {},
   "outputs": [],
   "source": []
  },
  {
   "cell_type": "code",
   "execution_count": null,
   "metadata": {},
   "outputs": [],
   "source": []
  }
 ],
 "metadata": {
  "kernelspec": {
   "display_name": "hyperbox",
   "language": "python",
   "name": "python3"
  },
  "language_info": {
   "codemirror_mode": {
    "name": "ipython",
    "version": 3
   },
   "file_extension": ".py",
   "mimetype": "text/x-python",
   "name": "python",
   "nbconvert_exporter": "python",
   "pygments_lexer": "ipython3",
   "version": "3.7.13"
  },
  "orig_nbformat": 4,
  "vscode": {
   "interpreter": {
    "hash": "9ea1dd16190af2e9c6e6bff77d922d58e6312e6b8c852baaf44a970c853dc93d"
   }
  }
 },
 "nbformat": 4,
 "nbformat_minor": 2
}
